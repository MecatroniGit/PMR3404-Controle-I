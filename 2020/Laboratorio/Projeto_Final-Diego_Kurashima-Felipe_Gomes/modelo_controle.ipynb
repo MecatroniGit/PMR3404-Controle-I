{
 "cells": [
  {
   "cell_type": "markdown",
   "metadata": {},
   "source": [
    "# Trabalho final Controle I\n",
    "\n",
    "Diego Jun Sato Kurashima - 10274231  \n",
    "Felipe Gomes de Melo - 10340624\n",
    "\n",
    "## Modelo completo\n",
    "\n",
    "![Figura 1](./Figuras/modelo_completo.png)\n",
    "\n",
    "## Modelo mesa\n",
    "\n",
    "![Figura 2](./Figuras/modelo_mesa.png)\n",
    "\n",
    "## Modelo eixo\n",
    "\n",
    "![Figura 3](./Figuras/modelo_eixo.png)"
   ]
  },
  {
   "cell_type": "code",
   "execution_count": 1,
   "metadata": {},
   "outputs": [],
   "source": [
    "import sympy as sp\n",
    "import numpy as np\n",
    "import matplotlib.pyplot as plt\n",
    "import control.matlab as co\n",
    "%matplotlib inline"
   ]
  },
  {
   "cell_type": "code",
   "execution_count": 2,
   "metadata": {},
   "outputs": [],
   "source": [
    "## Figura 2\n",
    "\n",
    "M, C_l = sp.symbols(\"M C_l\")\n",
    "f_m, f_c = sp.symbols(\"f_{mesa} f_{corte}\")\n",
    "t = sp.Symbol(\"t\")\n",
    "\n",
    "x = sp.Symbol('x')\n",
    "xp = sp.Symbol('\\dot{x}')\n",
    "xpp = sp.Symbol('\\ddot{x}')\n",
    "\n",
    "## Figura 3\n",
    "\n",
    "J_f, C_th, k_eq = sp.symbols(r\"J_f C_{\\theta} k_{eq}\")\n",
    "p_f = sp.Symbol(\"p_f\")\n",
    "\n",
    "theta_f = sp.Symbol(r\"\\theta_f\")\n",
    "theta_fp = sp.Symbol(r\"\\dot{\\theta_f}\")\n",
    "theta_fpp = sp.Symbol(r\"\\ddot{\\theta_f}\")\n",
    "\n",
    "theta_m = sp.Symbol(r\"\\theta_m\")\n",
    "theta_mp = sp.Symbol(r\"\\dot{\\theta_m}\")\n",
    "theta_mpp = sp.Symbol(r\"\\ddot{\\theta_m}\")\n",
    "\n",
    "## Constantes de torção\n",
    "\n",
    "k_th_a = sp.Symbol(r\"k_{\\theta a}\")\n",
    "k_th_f = sp.Symbol(r\"k_{\\theta f}\")\n",
    "k_th_f_0 = sp.Symbol(r\"k_{\\theta f 0}\")\n",
    "l_0 = sp.Symbol(\"l_0\")"
   ]
  },
  {
   "cell_type": "code",
   "execution_count": 3,
   "metadata": {},
   "outputs": [
    {
     "data": {
      "text/latex": [
       "$\\displaystyle C_{l} \\dot{x} + M \\ddot{x} = - f_{corte} + f_{mesa}$"
      ],
      "text/plain": [
       "Eq(C_l*\\dot{x} + M*\\ddot{x}, -f_{corte} + f_{mesa})"
      ]
     },
     "execution_count": 3,
     "metadata": {},
     "output_type": "execute_result"
    }
   ],
   "source": [
    "eq1 = sp.Eq(M*xpp+C_l*xp, f_m-f_c)\n",
    "eq1"
   ]
  },
  {
   "cell_type": "code",
   "execution_count": 4,
   "metadata": {},
   "outputs": [
    {
     "data": {
      "text/latex": [
       "$\\displaystyle C_{\\theta} \\left(\\dot{\\theta_f} - \\dot{\\theta_m}\\right) + J_{f} \\ddot{\\theta_f} + k_{eq} \\left(\\theta_f - \\theta_m\\right) = - f_{mesa} p_{f}$"
      ],
      "text/plain": [
       "Eq(C_{\\theta}*(\\dot{\\theta_f} - \\dot{\\theta_m}) + J_f*\\ddot{\\theta_f} + k_{eq}*(\\theta_f - \\theta_m), -f_{mesa}*p_f)"
      ]
     },
     "execution_count": 4,
     "metadata": {},
     "output_type": "execute_result"
    }
   ],
   "source": [
    "eq2 = sp.Eq(J_f*theta_fpp + C_th*(theta_fp - theta_mp) + k_eq*(theta_f - theta_m), -f_m*p_f)\n",
    "eq2"
   ]
  },
  {
   "cell_type": "code",
   "execution_count": 5,
   "metadata": {},
   "outputs": [
    {
     "data": {
      "text/latex": [
       "$\\displaystyle \\frac{1}{k_{eq}} = \\frac{1}{k_{\\theta f}} + \\frac{1}{k_{\\theta a}}$"
      ],
      "text/plain": [
       "Eq(1/k_{eq}, 1/k_{\\theta f} + 1/k_{\\theta a})"
      ]
     },
     "execution_count": 5,
     "metadata": {},
     "output_type": "execute_result"
    }
   ],
   "source": [
    "def1 = sp.Eq(1/k_eq, 1/k_th_a + 1/k_th_f)\n",
    "def1"
   ]
  },
  {
   "cell_type": "code",
   "execution_count": 6,
   "metadata": {},
   "outputs": [
    {
     "data": {
      "text/latex": [
       "$\\displaystyle x = \\theta_f p_{f}$"
      ],
      "text/plain": [
       "Eq(x, \\theta_f*p_f)"
      ]
     },
     "execution_count": 6,
     "metadata": {},
     "output_type": "execute_result"
    }
   ],
   "source": [
    "def2 = sp.Eq(x, theta_f*p_f)\n",
    "def2"
   ]
  },
  {
   "cell_type": "code",
   "execution_count": 7,
   "metadata": {},
   "outputs": [
    {
     "data": {
      "text/latex": [
       "$\\displaystyle k_{\\theta f} = k_{\\theta f 0} \\left(1.08 - \\frac{0.75}{l_{0}}\\right)$"
      ],
      "text/plain": [
       "Eq(k_{\\theta f}, k_{\\theta f 0}*(1.08 - 0.75/l_0))"
      ]
     },
     "execution_count": 7,
     "metadata": {},
     "output_type": "execute_result"
    }
   ],
   "source": [
    "def3 = sp.Eq(k_th_f, k_th_f_0*(1.08 - x/l_0))\n",
    "def3 = sp.Eq(k_th_f, k_th_f_0*(1.08 - 0.75/l_0))\n",
    "def3"
   ]
  },
  {
   "cell_type": "code",
   "execution_count": 8,
   "metadata": {},
   "outputs": [],
   "source": [
    "v_m = sp.Symbol(\"v_m\")\n",
    "i = sp.Symbol(\"i\")\n",
    "ip = sp.Symbol(r\"\\frac{d}{dt}i\")\n",
    "\n",
    "L, R, k_cem = sp.symbols(\"L R k_{cem}\")\n",
    "\n",
    "J_m, tau_m, k_m = sp.symbols(r\"J_m \\tau_m k_m\")"
   ]
  },
  {
   "cell_type": "code",
   "execution_count": 9,
   "metadata": {},
   "outputs": [
    {
     "data": {
      "text/latex": [
       "$\\displaystyle v_{m} = L \\frac{d}{dt}i + R i + \\dot{\\theta_m} k_{cem}$"
      ],
      "text/plain": [
       "Eq(v_m, L*\\frac{d}{dt}i + R*i + \\dot{\\theta_m}*k_{cem})"
      ]
     },
     "execution_count": 9,
     "metadata": {},
     "output_type": "execute_result"
    }
   ],
   "source": [
    "eq3 = sp.Eq(v_m, L*ip + R*i + k_cem*theta_mp)\n",
    "eq3"
   ]
  },
  {
   "cell_type": "code",
   "execution_count": 10,
   "metadata": {},
   "outputs": [
    {
     "data": {
      "text/latex": [
       "$\\displaystyle \\tau_m = i k_{m}$"
      ],
      "text/plain": [
       "Eq(\\tau_m, i*k_m)"
      ]
     },
     "execution_count": 10,
     "metadata": {},
     "output_type": "execute_result"
    }
   ],
   "source": [
    "def4 = sp.Eq(tau_m, k_m*i)\n",
    "def4"
   ]
  },
  {
   "cell_type": "code",
   "execution_count": 11,
   "metadata": {},
   "outputs": [
    {
     "data": {
      "text/latex": [
       "$\\displaystyle J_{m} \\ddot{\\theta_m} = - C_{\\theta} \\left(- \\dot{\\theta_f} + \\dot{\\theta_m}\\right) + i k_{m} - k_{eq} \\left(- \\theta_f + \\theta_m\\right)$"
      ],
      "text/plain": [
       "Eq(J_m*\\ddot{\\theta_m}, -C_{\\theta}*(-\\dot{\\theta_f} + \\dot{\\theta_m}) + i*k_m - k_{eq}*(-\\theta_f + \\theta_m))"
      ]
     },
     "execution_count": 11,
     "metadata": {},
     "output_type": "execute_result"
    }
   ],
   "source": [
    "eq4 = sp.Eq(J_m*theta_mpp, k_m*i - C_th*(theta_mp-theta_fp) - k_eq*(theta_m - theta_f))\n",
    "eq4"
   ]
  },
  {
   "cell_type": "code",
   "execution_count": 12,
   "metadata": {},
   "outputs": [
    {
     "data": {
      "text/latex": [
       "$\\displaystyle v_{s} = k_{s} x$"
      ],
      "text/plain": [
       "Eq(v_s, k_s*x)"
      ]
     },
     "execution_count": 12,
     "metadata": {},
     "output_type": "execute_result"
    }
   ],
   "source": [
    "v_s = sp.Symbol(\"v_s\")\n",
    "k_s = sp.Symbol(\"k_s\")\n",
    "\n",
    "eq5 = sp.Eq(v_s, k_s*x)\n",
    "eq5"
   ]
  },
  {
   "cell_type": "code",
   "execution_count": 13,
   "metadata": {},
   "outputs": [],
   "source": [
    "parametros = [\n",
    "    (M, 40),\n",
    "    (C_l, 50),\n",
    "    (p_f, 0.03),\n",
    "    (l_0, 1.5),\n",
    "    (J_f, 9.4e-4),\n",
    "    (k_th_f_0, 1.2e4),\n",
    "    (k_th_a, 42),\n",
    "    (C_th, 0.3),\n",
    "    (J_m, 2.3e-6),\n",
    "    (k_m, 2),\n",
    "    (k_cem, 0.5),\n",
    "    (R, 9),\n",
    "    (L, 0.006),\n",
    "]"
   ]
  },
  {
   "cell_type": "code",
   "execution_count": 14,
   "metadata": {},
   "outputs": [],
   "source": [
    "definicoes = [\n",
    "    (def1, k_eq),\n",
    "    (def3, k_th_f),\n",
    "    (def4, tau_m)\n",
    "]"
   ]
  },
  {
   "cell_type": "code",
   "execution_count": 15,
   "metadata": {},
   "outputs": [],
   "source": [
    "sistema = [\n",
    "    eq1,\n",
    "    eq2,\n",
    "    eq3,\n",
    "    eq4,\n",
    "]"
   ]
  },
  {
   "cell_type": "code",
   "execution_count": 16,
   "metadata": {},
   "outputs": [],
   "source": [
    "def solve_and_subs(defs):\n",
    "    retlist = [None]*len(defs)\n",
    "    for i, definition in enumerate(defs):\n",
    "        solution = sp.solveset(*definition)\n",
    "        retval = None\n",
    "        if solution.is_Complement:\n",
    "            retval = solution.args[0].args[0]\n",
    "        else:\n",
    "            retval = solution.args[0]\n",
    "        a = definition[1]\n",
    "        retlist[i] = (definition[1], retval)\n",
    "\n",
    "    return retlist\n",
    "\n",
    "parametros2 = solve_and_subs(definicoes)"
   ]
  },
  {
   "cell_type": "code",
   "execution_count": 17,
   "metadata": {},
   "outputs": [],
   "source": [
    "solution = sp.solveset(def2, theta_f).args[0]\n",
    "\n",
    "theta_f_subs = [\n",
    "    (theta_f, solution),\n",
    "    (theta_fp, solution.subs(x, xp)),\n",
    "    (theta_fpp, solution.subs(x, xpp)),\n",
    "]"
   ]
  },
  {
   "cell_type": "code",
   "execution_count": 18,
   "metadata": {},
   "outputs": [
    {
     "data": {
      "text/latex": [
       "$\\displaystyle C_{l} \\dot{x} + M \\ddot{x} = - f_{corte} + f_{mesa}$"
      ],
      "text/plain": [
       "Eq(C_l*\\dot{x} + M*\\ddot{x}, -f_{corte} + f_{mesa})"
      ]
     },
     "metadata": {},
     "output_type": "display_data"
    },
    {
     "data": {
      "text/latex": [
       "$\\displaystyle C_{\\theta} \\left(\\dot{\\theta_f} - \\dot{\\theta_m}\\right) + J_{f} \\ddot{\\theta_f} + k_{eq} \\left(\\theta_f - \\theta_m\\right) = - f_{mesa} p_{f}$"
      ],
      "text/plain": [
       "Eq(C_{\\theta}*(\\dot{\\theta_f} - \\dot{\\theta_m}) + J_f*\\ddot{\\theta_f} + k_{eq}*(\\theta_f - \\theta_m), -f_{mesa}*p_f)"
      ]
     },
     "metadata": {},
     "output_type": "display_data"
    },
    {
     "data": {
      "text/latex": [
       "$\\displaystyle v_{m} = L \\frac{d}{dt}i + R i + \\dot{\\theta_m} k_{cem}$"
      ],
      "text/plain": [
       "Eq(v_m, L*\\frac{d}{dt}i + R*i + \\dot{\\theta_m}*k_{cem})"
      ]
     },
     "metadata": {},
     "output_type": "display_data"
    },
    {
     "data": {
      "text/latex": [
       "$\\displaystyle J_{m} \\ddot{\\theta_m} = - C_{\\theta} \\left(- \\dot{\\theta_f} + \\dot{\\theta_m}\\right) + i k_{m} - k_{eq} \\left(- \\theta_f + \\theta_m\\right)$"
      ],
      "text/plain": [
       "Eq(J_m*\\ddot{\\theta_m}, -C_{\\theta}*(-\\dot{\\theta_f} + \\dot{\\theta_m}) + i*k_m - k_{eq}*(-\\theta_f + \\theta_m))"
      ]
     },
     "metadata": {},
     "output_type": "display_data"
    }
   ],
   "source": [
    "for eq in sistema:\n",
    "    display(eq)"
   ]
  },
  {
   "cell_type": "code",
   "execution_count": 19,
   "metadata": {},
   "outputs": [],
   "source": [
    "f_m_sol = sp.solveset(sistema[0], f_m)\n",
    "f_m_sol.args[0]\n",
    "\n",
    "sym_sistema = [sistema[1].subs(f_m, f_m_sol.args[0]), sistema[2], sistema[3]]"
   ]
  },
  {
   "cell_type": "code",
   "execution_count": 20,
   "metadata": {},
   "outputs": [
    {
     "data": {
      "text/latex": [
       "$\\displaystyle C_{\\theta} \\left(\\dot{\\theta_f} - \\dot{\\theta_m}\\right) + J_{f} \\ddot{\\theta_f} + k_{eq} \\left(\\theta_f - \\theta_m\\right) = - p_{f} \\left(C_{l} \\dot{x} + M \\ddot{x} + f_{corte}\\right)$"
      ],
      "text/plain": [
       "Eq(C_{\\theta}*(\\dot{\\theta_f} - \\dot{\\theta_m}) + J_f*\\ddot{\\theta_f} + k_{eq}*(\\theta_f - \\theta_m), -p_f*(C_l*\\dot{x} + M*\\ddot{x} + f_{corte}))"
      ]
     },
     "metadata": {},
     "output_type": "display_data"
    },
    {
     "data": {
      "text/latex": [
       "$\\displaystyle v_{m} = L \\frac{d}{dt}i + R i + \\dot{\\theta_m} k_{cem}$"
      ],
      "text/plain": [
       "Eq(v_m, L*\\frac{d}{dt}i + R*i + \\dot{\\theta_m}*k_{cem})"
      ]
     },
     "metadata": {},
     "output_type": "display_data"
    },
    {
     "data": {
      "text/latex": [
       "$\\displaystyle J_{m} \\ddot{\\theta_m} = - C_{\\theta} \\left(- \\dot{\\theta_f} + \\dot{\\theta_m}\\right) + i k_{m} - k_{eq} \\left(- \\theta_f + \\theta_m\\right)$"
      ],
      "text/plain": [
       "Eq(J_m*\\ddot{\\theta_m}, -C_{\\theta}*(-\\dot{\\theta_f} + \\dot{\\theta_m}) + i*k_m - k_{eq}*(-\\theta_f + \\theta_m))"
      ]
     },
     "metadata": {},
     "output_type": "display_data"
    }
   ],
   "source": [
    "for eq in sym_sistema:\n",
    "    display(eq)"
   ]
  },
  {
   "cell_type": "code",
   "execution_count": 21,
   "metadata": {},
   "outputs": [],
   "source": [
    "def batch_subs(sist, subs_list):\n",
    "    retsis = sist.copy()\n",
    "    for subs_tuple in subs_list:\n",
    "        for i, _ in enumerate(retsis):\n",
    "            retsis[i] = retsis[i].subs(*subs_tuple)\n",
    "    return retsis"
   ]
  },
  {
   "cell_type": "code",
   "execution_count": 22,
   "metadata": {},
   "outputs": [],
   "source": [
    "sym_sistema2 = batch_subs(sym_sistema, theta_f_subs)"
   ]
  },
  {
   "cell_type": "code",
   "execution_count": 23,
   "metadata": {},
   "outputs": [
    {
     "data": {
      "text/latex": [
       "$\\displaystyle \\frac{- C_{l} \\dot{x} p_{f}^{2} + C_{\\theta} \\dot{\\theta_m} p_{f} - C_{\\theta} \\dot{x} + \\theta_m k_{eq} p_{f} - f_{corte} p_{f}^{2} - k_{eq} x}{J_{f} + M p_{f}^{2}}$"
      ],
      "text/plain": [
       "(-C_l*\\dot{x}*p_f**2 + C_{\\theta}*\\dot{\\theta_m}*p_f - C_{\\theta}*\\dot{x} + \\theta_m*k_{eq}*p_f - f_{corte}*p_f**2 - k_{eq}*x)/(J_f + M*p_f**2)"
      ]
     },
     "metadata": {},
     "output_type": "display_data"
    },
    {
     "data": {
      "text/latex": [
       "$\\displaystyle \\frac{- C_{\\theta} \\dot{\\theta_m} p_{f} + C_{\\theta} \\dot{x} - \\theta_m k_{eq} p_{f} + i k_{m} p_{f} + k_{eq} x}{J_{m} p_{f}}$"
      ],
      "text/plain": [
       "(-C_{\\theta}*\\dot{\\theta_m}*p_f + C_{\\theta}*\\dot{x} - \\theta_m*k_{eq}*p_f + i*k_m*p_f + k_{eq}*x)/(J_m*p_f)"
      ]
     },
     "metadata": {},
     "output_type": "display_data"
    },
    {
     "data": {
      "text/latex": [
       "$\\displaystyle \\frac{- R i - \\dot{\\theta_m} k_{cem} + v_{m}}{L}$"
      ],
      "text/plain": [
       "(-R*i - \\dot{\\theta_m}*k_{cem} + v_m)/L"
      ]
     },
     "metadata": {},
     "output_type": "display_data"
    }
   ],
   "source": [
    "state_sol = sp.linsolve(sym_sistema2, [xpp, theta_mpp, ip])\n",
    "for sol in state_sol.args[0]:\n",
    "    display(sol)"
   ]
  },
  {
   "cell_type": "code",
   "execution_count": 24,
   "metadata": {},
   "outputs": [],
   "source": [
    "a, b = sp.linear_eq_to_matrix(state_sol.args[0], [x, xp, theta_m, theta_mp, i])"
   ]
  },
  {
   "cell_type": "code",
   "execution_count": 25,
   "metadata": {},
   "outputs": [
    {
     "data": {
      "text/latex": [
       "$\\displaystyle \\left[\\begin{matrix}0 & 1 & 0 & 0 & 0\\\\- \\frac{k_{eq}}{J_{f} + M p_{f}^{2}} & \\frac{- C_{l} p_{f}^{2} - C_{\\theta}}{J_{f} + M p_{f}^{2}} & \\frac{k_{eq} p_{f}}{J_{f} + M p_{f}^{2}} & \\frac{C_{\\theta} p_{f}}{J_{f} + M p_{f}^{2}} & 0\\\\0 & 0 & 0 & 1 & 0\\\\\\frac{k_{eq}}{J_{m} p_{f}} & \\frac{C_{\\theta}}{J_{m} p_{f}} & - \\frac{k_{eq}}{J_{m}} & - \\frac{C_{\\theta}}{J_{m}} & \\frac{k_{m}}{J_{m}}\\\\0 & 0 & 0 & - \\frac{k_{cem}}{L} & - \\frac{R}{L}\\end{matrix}\\right]$"
      ],
      "text/plain": [
       "Matrix([\n",
       "[                       0,                                           1,                           0,                               0,       0],\n",
       "[-k_{eq}/(J_f + M*p_f**2), (-C_l*p_f**2 - C_{\\theta})/(J_f + M*p_f**2), k_{eq}*p_f/(J_f + M*p_f**2), C_{\\theta}*p_f/(J_f + M*p_f**2),       0],\n",
       "[                       0,                                           0,                           0,                               1,       0],\n",
       "[        k_{eq}/(J_m*p_f),                        C_{\\theta}/(J_m*p_f),                 -k_{eq}/J_m,                 -C_{\\theta}/J_m, k_m/J_m],\n",
       "[                       0,                                           0,                           0,                      -k_{cem}/L,    -R/L]])"
      ]
     },
     "execution_count": 25,
     "metadata": {},
     "output_type": "execute_result"
    }
   ],
   "source": [
    "finala = sp.Matrix([ [0, 1, 0, 0, 0], a[0,:], [0, 0, 0, 1, 0], a[1,:], a[2,:]])\n",
    "finala"
   ]
  },
  {
   "cell_type": "code",
   "execution_count": 26,
   "metadata": {},
   "outputs": [
    {
     "data": {
      "text/markdown": [
       "$$\\left[\\begin{matrix} \\dot{x} \\\\ \\ddot{x} \\\\\\dot{\\theta_p} \\\\ \\ddot{\\theta_p} \\\\ \\frac{d}{dt}i \\end{matrix} \\right]=\\left[\\begin{matrix}0 & 1 & 0 & 0 & 0\\\\- \\frac{k_{eq}}{J_{f} + M p_{f}^{2}} & \\frac{- C_{l} p_{f}^{2} - C_{\\theta}}{J_{f} + M p_{f}^{2}} & \\frac{k_{eq} p_{f}}{J_{f} + M p_{f}^{2}} & \\frac{C_{\\theta} p_{f}}{J_{f} + M p_{f}^{2}} & 0\\\\0 & 0 & 0 & 1 & 0\\\\\\frac{k_{eq}}{J_{m} p_{f}} & \\frac{C_{\\theta}}{J_{m} p_{f}} & - \\frac{k_{eq}}{J_{m}} & - \\frac{C_{\\theta}}{J_{m}} & \\frac{k_{m}}{J_{m}}\\\\0 & 0 & 0 & - \\frac{k_{cem}}{L} & - \\frac{R}{L}\\end{matrix}\\right] \\left[\\begin{matrix} x \\\\ \\dot{x} \\\\ \\theta_p \\\\ \\dot{\\theta_p} \\\\ i \\end{matrix} \\right]$$"
      ],
      "text/plain": [
       "<IPython.core.display.Markdown object>"
      ]
     },
     "execution_count": 26,
     "metadata": {},
     "output_type": "execute_result"
    }
   ],
   "source": [
    "from IPython.display import Markdown as md\n",
    "\n",
    "left_side = r\"\\left[\\begin{matrix} \\dot{x} \\\\ \\ddot{x} \\\\\" + \\\n",
    "    r\"\\dot{\\theta_p} \\\\ \\ddot{\\theta_p} \\\\ \\frac{d}{dt}i \\end{matrix} \\right]\"\n",
    "\n",
    "right_side = r\"\\left[\\begin{matrix} x \\\\ \\dot{x} \\\\ \\theta_p \\\\ \\dot{\\theta_p} \\\\ i \\end{matrix} \\right]\"\n",
    "\n",
    "md(f\"$${left_side}={sp.latex(finala)} {right_side}$$\")"
   ]
  },
  {
   "cell_type": "code",
   "execution_count": 27,
   "metadata": {},
   "outputs": [
    {
     "data": {
      "text/markdown": [
       "$$\\left[\\begin{matrix}0 & 0\\\\0 & - \\frac{p_{f}^{2}}{J_{f} + M p_{f}^{2}}\\\\0 & 0\\\\0 & 0\\\\\\frac{1}{L} & 0\\end{matrix}\\right] \\left[\\begin{matrix} v_m \\\\ f_{corte} \\end{matrix}\\right]$$"
      ],
      "text/plain": [
       "<IPython.core.display.Markdown object>"
      ]
     },
     "execution_count": 27,
     "metadata": {},
     "output_type": "execute_result"
    }
   ],
   "source": [
    "finalb = sp.Matrix([ [0, 0], [0, -b[0].subs(f_c, 1)], [0, 0], [0, 0], [-b[2].subs(v_m, 1), 0]])\n",
    "u_vector = r\"\\left[\\begin{matrix} v_m \\\\ f_{corte} \\end{matrix}\\right]\"\n",
    "\n",
    "md(f\"$${sp.latex(finalb)} {u_vector}$$\")"
   ]
  },
  {
   "cell_type": "code",
   "execution_count": 28,
   "metadata": {},
   "outputs": [
    {
     "data": {
      "text/markdown": [
       "$$\\left[\\begin{matrix} \\dot{x} \\\\ \\ddot{x} \\\\\\dot{\\theta_p} \\\\ \\ddot{\\theta_p} \\\\ \\frac{d}{dt}i \\end{matrix} \\right]=\\left[\\begin{matrix}0 & 1 & 0 & 0 & 0\\\\- \\frac{k_{eq}}{J_{f} + M p_{f}^{2}} & \\frac{- C_{l} p_{f}^{2} - C_{\\theta}}{J_{f} + M p_{f}^{2}} & \\frac{k_{eq} p_{f}}{J_{f} + M p_{f}^{2}} & \\frac{C_{\\theta} p_{f}}{J_{f} + M p_{f}^{2}} & 0\\\\0 & 0 & 0 & 1 & 0\\\\\\frac{k_{eq}}{J_{m} p_{f}} & \\frac{C_{\\theta}}{J_{m} p_{f}} & - \\frac{k_{eq}}{J_{m}} & - \\frac{C_{\\theta}}{J_{m}} & \\frac{k_{m}}{J_{m}}\\\\0 & 0 & 0 & - \\frac{k_{cem}}{L} & - \\frac{R}{L}\\end{matrix}\\right] \\left[\\begin{matrix} x \\\\ \\dot{x} \\\\ \\theta_p \\\\ \\dot{\\theta_p} \\\\ i \\end{matrix} \\right] + \\left[\\begin{matrix}0 & 0\\\\0 & - \\frac{p_{f}^{2}}{J_{f} + M p_{f}^{2}}\\\\0 & 0\\\\0 & 0\\\\\\frac{1}{L} & 0\\end{matrix}\\right] \\left[\\begin{matrix} v_m \\\\ f_{corte} \\end{matrix}\\right]$$"
      ],
      "text/plain": [
       "<IPython.core.display.Markdown object>"
      ]
     },
     "execution_count": 28,
     "metadata": {},
     "output_type": "execute_result"
    }
   ],
   "source": [
    "md(f\"$${left_side}={sp.latex(finala)} {right_side} + {sp.latex(finalb)} {u_vector}$$\")"
   ]
  },
  {
   "cell_type": "code",
   "execution_count": 29,
   "metadata": {},
   "outputs": [],
   "source": [
    "c = sp.Matrix([k_s, 0, 0, 0, 0]).transpose()"
   ]
  },
  {
   "cell_type": "code",
   "execution_count": 30,
   "metadata": {},
   "outputs": [
    {
     "data": {
      "text/latex": [
       "$\\displaystyle \\left[\\begin{matrix}k_{s} & 0 & 0 & 0 & 0\\end{matrix}\\right]$"
      ],
      "text/plain": [
       "Matrix([[k_s, 0, 0, 0, 0]])"
      ]
     },
     "execution_count": 30,
     "metadata": {},
     "output_type": "execute_result"
    }
   ],
   "source": [
    "c"
   ]
  },
  {
   "cell_type": "code",
   "execution_count": 31,
   "metadata": {},
   "outputs": [],
   "source": [
    "all_subs = [*theta_f_subs, *parametros2, *parametros]\n",
    "\n",
    "numericA = batch_subs(finala, all_subs)\n",
    "A = np.array(numericA).astype(np.float64)\n",
    "\n",
    "numericB = batch_subs(finalb, all_subs)\n",
    "B = np.array(numericB).astype(np.float64)\n",
    "\n",
    "C = np.zeros((1,5))\n",
    "C[0,0] = 10\n",
    "\n",
    "D = np.zeros((1,2))"
   ]
  },
  {
   "cell_type": "code",
   "execution_count": 32,
   "metadata": {},
   "outputs": [],
   "source": [
    "global_ss = co.ss(A, B, C, D)"
   ]
  },
  {
   "cell_type": "code",
   "execution_count": 33,
   "metadata": {},
   "outputs": [
    {
     "data": {
      "text/plain": [
       "A = [[ 0.00e+00  1.00e+00  0.00e+00  0.00e+00  0.00e+00]\n",
       " [-1.13e+03 -9.34e+00  3.39e+01  2.44e-01  0.00e+00]\n",
       " [ 0.00e+00  0.00e+00  0.00e+00  1.00e+00  0.00e+00]\n",
       " [ 6.05e+08  4.35e+06 -1.82e+07 -1.30e+05  8.70e+05]\n",
       " [ 0.00e+00  0.00e+00  0.00e+00 -8.33e+01 -1.50e+03]]\n",
       "\n",
       "B = [[ 0.00e+00  0.00e+00]\n",
       " [ 0.00e+00 -2.44e-02]\n",
       " [ 0.00e+00  0.00e+00]\n",
       " [ 0.00e+00  0.00e+00]\n",
       " [ 1.67e+02  0.00e+00]]\n",
       "\n",
       "C = [[10.  0.  0.  0.  0.]]\n",
       "\n",
       "D = [[0. 0.]]"
      ]
     },
     "execution_count": 33,
     "metadata": {},
     "output_type": "execute_result"
    }
   ],
   "source": [
    "np.set_printoptions(precision=2)\n",
    "global_ss"
   ]
  },
  {
   "cell_type": "code",
   "execution_count": 34,
   "metadata": {},
   "outputs": [],
   "source": [
    "global_sys = co.ss2tf(global_ss)"
   ]
  },
  {
   "cell_type": "code",
   "execution_count": 35,
   "metadata": {},
   "outputs": [
    {
     "data": {
      "text/plain": [
       "array([ 1.55e+08, -2.09e+07])"
      ]
     },
     "execution_count": 35,
     "metadata": {},
     "output_type": "execute_result"
    }
   ],
   "source": [
    "global_sys.dcgain()"
   ]
  },
  {
   "cell_type": "code",
   "execution_count": 36,
   "metadata": {},
   "outputs": [
    {
     "data": {
      "text/latex": [
       "$$\\begin{bmatrix}\\frac{1.389 \\times 10^{-26} s^3 + 4.312 \\times 10^{-11} s^2 + 3.531 \\times 10^{8} s + 4.914 \\times 10^{10}}{s^5 + 1.319 \\times 10^{5} s^4 + 2.864 \\times 10^{8} s^3 + 2.817 \\times 10^{10} s^2 + 1.151 \\times 10^{11} s + 318}\\frac{-0.2436 s^3 - 3.214 \\times 10^{4} s^2 - 6.975 \\times 10^{7} s - 6.634 \\times 10^{9}}{s^5 + 1.319 \\times 10^{5} s^4 + 2.864 \\times 10^{8} s^3 + 2.817 \\times 10^{10} s^2 + 1.151 \\times 10^{11} s + 318}\\\\ \\end{bmatrix}$$"
      ],
      "text/plain": [
       "\n",
       "Input 1 to output 1:\n",
       "        1.389e-26 s^3 + 4.312e-11 s^2 + 3.531e+08 s + 4.914e+10\n",
       "-----------------------------------------------------------------------\n",
       "s^5 + 1.319e+05 s^4 + 2.864e+08 s^3 + 2.817e+10 s^2 + 1.151e+11 s + 318\n",
       "\n",
       "Input 2 to output 1:\n",
       "         -0.2436 s^3 - 3.214e+04 s^2 - 6.975e+07 s - 6.634e+09\n",
       "-----------------------------------------------------------------------\n",
       "s^5 + 1.319e+05 s^4 + 2.864e+08 s^3 + 2.817e+10 s^2 + 1.151e+11 s + 318"
      ]
     },
     "execution_count": 36,
     "metadata": {},
     "output_type": "execute_result"
    }
   ],
   "source": [
    "global_sys"
   ]
  },
  {
   "cell_type": "markdown",
   "metadata": {},
   "source": [
    "Utilizando a convenção\n",
    "\n",
    "$$\n",
    "V_s(s) = G(s)V_m(s) + G_d(s)F_{corte}(s)\n",
    "$$"
   ]
  },
  {
   "cell_type": "code",
   "execution_count": 37,
   "metadata": {},
   "outputs": [],
   "source": [
    "num_G = global_sys.num[0][0]\n",
    "num_Gd = global_sys.num[0][1]\n",
    "\n",
    "den_G = global_sys.den[0][0]\n",
    "den_Gd = global_sys.den[0][1]"
   ]
  },
  {
   "cell_type": "code",
   "execution_count": 38,
   "metadata": {},
   "outputs": [
    {
     "data": {
      "text/latex": [
       "$$\\frac{1.389 \\times 10^{-26} s^3 + 4.312 \\times 10^{-11} s^2 + 3.531 \\times 10^{8} s + 4.914 \\times 10^{10}}{s^5 + 1.319 \\times 10^{5} s^4 + 2.864 \\times 10^{8} s^3 + 2.817 \\times 10^{10} s^2 + 1.151 \\times 10^{11} s + 318}$$"
      ],
      "text/plain": [
       "\n",
       "        1.389e-26 s^3 + 4.312e-11 s^2 + 3.531e+08 s + 4.914e+10\n",
       "-----------------------------------------------------------------------\n",
       "s^5 + 1.319e+05 s^4 + 2.864e+08 s^3 + 2.817e+10 s^2 + 1.151e+11 s + 318"
      ]
     },
     "metadata": {},
     "output_type": "display_data"
    },
    {
     "data": {
      "text/latex": [
       "$$\\frac{-0.2436 s^3 - 3.214 \\times 10^{4} s^2 - 6.975 \\times 10^{7} s - 6.634 \\times 10^{9}}{s^5 + 1.319 \\times 10^{5} s^4 + 2.864 \\times 10^{8} s^3 + 2.817 \\times 10^{10} s^2 + 1.151 \\times 10^{11} s + 318}$$"
      ],
      "text/plain": [
       "\n",
       "         -0.2436 s^3 - 3.214e+04 s^2 - 6.975e+07 s - 6.634e+09\n",
       "-----------------------------------------------------------------------\n",
       "s^5 + 1.319e+05 s^4 + 2.864e+08 s^3 + 2.817e+10 s^2 + 1.151e+11 s + 318"
      ]
     },
     "metadata": {},
     "output_type": "display_data"
    }
   ],
   "source": [
    "G = co.tf(num_G, den_G)\n",
    "Gd = co.tf(num_Gd, den_Gd)\n",
    "\n",
    "display(G)\n",
    "display(Gd)"
   ]
  },
  {
   "cell_type": "code",
   "execution_count": 39,
   "metadata": {},
   "outputs": [
    {
     "name": "stdout",
     "output_type": "stream",
     "text": [
      "-129737.95017964908\n",
      "-2103.1502259720837\n",
      "-98.75139390465245\n",
      "-4.270278585592402\n",
      "0.0\n"
     ]
    },
    {
     "name": "stderr",
     "output_type": "stream",
     "text": [
      "/home/felipe/.local/lib/python3.8/site-packages/scipy/signal/filter_design.py:1621: BadCoefficients: Badly conditioned filter coefficients (numerator): the results may be meaningless\n",
      "  warnings.warn(\"Badly conditioned filter coefficients (numerator): the \"\n"
     ]
    }
   ],
   "source": [
    "p = G.pole()\n",
    "p[-1] = 0.0\n",
    "for pol in p:\n",
    "    print(pol)"
   ]
  },
  {
   "cell_type": "code",
   "execution_count": 40,
   "metadata": {},
   "outputs": [
    {
     "name": "stdout",
     "output_type": "stream",
     "text": [
      "-98.75139390465245\n",
      "-4.270278585592402\n",
      "0.0\n"
     ]
    }
   ],
   "source": [
    "limiar = 1e3\n",
    "eff_p = [a for a in p if np.abs(a) < limiar]\n",
    "for pol in eff_p:\n",
    "    print(pol)"
   ]
  },
  {
   "cell_type": "code",
   "execution_count": 41,
   "metadata": {},
   "outputs": [
    {
     "name": "stdout",
     "output_type": "stream",
     "text": [
      "(-1552670012325121+1.59457847660113e+17j)\n",
      "(-1552670012325121-1.59457847660113e+17j)\n",
      "(-139.16023993629292+0j)\n"
     ]
    }
   ],
   "source": [
    "z = G.zero()\n",
    "for zer in z:\n",
    "    print(zer)"
   ]
  },
  {
   "cell_type": "code",
   "execution_count": 42,
   "metadata": {},
   "outputs": [
    {
     "name": "stdout",
     "output_type": "stream",
     "text": [
      "(-139.16023993629292+0j)\n"
     ]
    }
   ],
   "source": [
    "eff_z = [a for a in z if np.abs(a) < limiar]\n",
    "for zer in eff_z:\n",
    "    print(zer)"
   ]
  },
  {
   "cell_type": "code",
   "execution_count": 43,
   "metadata": {},
   "outputs": [
    {
     "name": "stdout",
     "output_type": "stream",
     "text": [
      "-129729.7572626705\n",
      "-2105.3383908361534\n",
      "-99.68695519768346\n"
     ]
    }
   ],
   "source": [
    "zd = Gd.zero()\n",
    "for zer in zd:\n",
    "    print(zer)"
   ]
  },
  {
   "cell_type": "code",
   "execution_count": 44,
   "metadata": {},
   "outputs": [
    {
     "name": "stdout",
     "output_type": "stream",
     "text": [
      "-99.68695519768346\n"
     ]
    }
   ],
   "source": [
    "eff_zd = [a for a in zd if np.abs(a) < limiar]\n",
    "for zer in eff_zd:\n",
    "    print(zer)"
   ]
  },
  {
   "cell_type": "code",
   "execution_count": 45,
   "metadata": {},
   "outputs": [
    {
     "data": {
      "text/latex": [
       "$$\\frac{s + 139.2}{s^3 + 103 s^2 + 421.7 s}$$"
      ],
      "text/plain": [
       "\n",
       "       s + 139.2\n",
       "-----------------------\n",
       "s^3 + 103 s^2 + 421.7 s"
      ]
     },
     "execution_count": 45,
     "metadata": {},
     "output_type": "execute_result"
    }
   ],
   "source": [
    "nG_zpk = co.zpk2tf(eff_z, eff_p, 1)\n",
    "nG = co.tf(*nG_zpk)\n",
    "nG"
   ]
  },
  {
   "cell_type": "code",
   "execution_count": 46,
   "metadata": {},
   "outputs": [
    {
     "data": {
      "text/latex": [
       "$$\\frac{-s - 99.69}{s^3 + 103 s^2 + 421.7 s}$$"
      ],
      "text/plain": [
       "\n",
       "      -s - 99.69\n",
       "-----------------------\n",
       "s^3 + 103 s^2 + 421.7 s"
      ]
     },
     "execution_count": 46,
     "metadata": {},
     "output_type": "execute_result"
    }
   ],
   "source": [
    "nGd_zpk = co.zpk2tf(eff_zd, eff_p, -1)\n",
    "nGd = co.tf(*nGd_zpk)\n",
    "nGd"
   ]
  },
  {
   "cell_type": "code",
   "execution_count": 47,
   "metadata": {},
   "outputs": [
    {
     "data": {
      "text/plain": [
       "array(inf)"
      ]
     },
     "execution_count": 47,
     "metadata": {},
     "output_type": "execute_result"
    }
   ],
   "source": [
    "nGd.dcgain()"
   ]
  },
  {
   "cell_type": "code",
   "execution_count": 48,
   "metadata": {},
   "outputs": [
    {
     "data": {
      "text/plain": [
       "(array([-98.75,  -4.27,   0.  ]), array([-139.16]))"
      ]
     },
     "execution_count": 48,
     "metadata": {},
     "output_type": "execute_result"
    },
    {
     "data": {
      "image/png": "[encoded data removed]",
      "text/plain": [
       "<Figure size 720x576 with 1 Axes>"
      ]
     },
     "metadata": {
      "needs_background": "light"
     },
     "output_type": "display_data"
    }
   ],
   "source": [
    "plt.rcParams[\"figure.figsize\"] = (10,8)\n",
    "co.pzmap(nG)"
   ]
  },
  {
   "cell_type": "code",
   "execution_count": 49,
   "metadata": {},
   "outputs": [
    {
     "data": {
      "image/png": "[encoded data removed]",
      "text/plain": [
       "<Figure size 720x576 with 2 Axes>"
      ]
     },
     "metadata": {
      "needs_background": "light"
     },
     "output_type": "display_data"
    }
   ],
   "source": [
    "retval = co.bode(nG)"
   ]
  },
  {
   "cell_type": "code",
   "execution_count": 50,
   "metadata": {},
   "outputs": [
    {
     "data": {
      "text/plain": [
       "(array([-98.75,  -4.27,   0.  ]), array([-99.69]))"
      ]
     },
     "execution_count": 50,
     "metadata": {},
     "output_type": "execute_result"
    },
    {
     "data": {
      "image/png": "[encoded data removed]",
      "text/plain": [
       "<Figure size 720x576 with 1 Axes>"
      ]
     },
     "metadata": {
      "needs_background": "light"
     },
     "output_type": "display_data"
    }
   ],
   "source": [
    "plt.rcParams[\"figure.figsize\"] = (10,8)\n",
    "co.pzmap(nGd)"
   ]
  },
  {
   "cell_type": "code",
   "execution_count": 51,
   "metadata": {},
   "outputs": [
    {
     "data": {
      "image/png": "[encoded data removed]",
      "text/plain": [
       "<Figure size 720x576 with 2 Axes>"
      ]
     },
     "metadata": {
      "needs_background": "light"
     },
     "output_type": "display_data"
    }
   ],
   "source": [
    "retval = co.bode(nGd)"
   ]
  },
  {
   "cell_type": "markdown",
   "metadata": {},
   "source": [
    "## Requisitos\n",
    "\n",
    "- Erro em regime nulo\n",
    "- Sobressinal $M_p < 5\\%$\n",
    "- Tempo assentamento 2% $t_s < 0.5s $\n",
    "- Margem de ganho maior de $10 ~ dB$\n",
    "- Margem de fase maior que $ ~ 45°$\n",
    "- Rejeição completa de perturbações constantes (entrada degrau em $f_{corte}$)\n",
    "- Esforço de trabalho limitado"
   ]
  },
  {
   "cell_type": "code",
   "execution_count": 52,
   "metadata": {},
   "outputs": [
    {
     "data": {
      "text/plain": [
       "{'RiseTime': 6.11677901810934,\n",
       " 'SettlingTime': 10.990783886507575,\n",
       " 'SettlingMin': 0.8995782994540726,\n",
       " 'SettlingMax': 0.9989942085730168,\n",
       " 'Overshoot': 0.0,\n",
       " 'Undershoot': 0.0,\n",
       " 'Peak': 0.9989942085730168,\n",
       " 'PeakTime': 19.398927743146764,\n",
       " 'SteadyStateValue': 0.9989942085730168}"
      ]
     },
     "execution_count": 52,
     "metadata": {},
     "output_type": "execute_result"
    },
    {
     "data": {
      "image/png": "[encoded data removed]",
      "text/plain": [
       "<Figure size 720x576 with 1 Axes>"
      ]
     },
     "metadata": {
      "needs_background": "light"
     },
     "output_type": "display_data"
    }
   ],
   "source": [
    "plt.rcParams[\"figure.figsize\"] = (10,8)\n",
    "y, t = co.step(co.feedback(nG))\n",
    "plt.plot(t, y)\n",
    "co.stepinfo(co.feedback(nG))"
   ]
  },
  {
   "cell_type": "code",
   "execution_count": 53,
   "metadata": {},
   "outputs": [
    {
     "data": {
      "text/plain": [
       "{'RiseTime': 0.0,\n",
       " 'SettlingTime': 19.36009105096842,\n",
       " 'SettlingMin': 0.001005791426984315,\n",
       " 'SettlingMax': 1.0,\n",
       " 'Overshoot': -100.0,\n",
       " 'Undershoot': 0.001005791426984315,\n",
       " 'Peak': 1.0,\n",
       " 'PeakTime': 0.0,\n",
       " 'SteadyStateValue': 0.001005791426984315}"
      ]
     },
     "execution_count": 53,
     "metadata": {},
     "output_type": "execute_result"
    },
    {
     "data": {
      "image/png": "[encoded data removed]",
      "text/plain": [
       "<Figure size 720x576 with 1 Axes>"
      ]
     },
     "metadata": {
      "needs_background": "light"
     },
     "output_type": "display_data"
    }
   ],
   "source": [
    "plt.rcParams[\"figure.figsize\"] = (10,8)\n",
    "y, t = co.step(co.feedback(1, nG))\n",
    "plt.plot(t, y)\n",
    "co.stepinfo(co.feedback(1, nG))"
   ]
  },
  {
   "cell_type": "code",
   "execution_count": 54,
   "metadata": {},
   "outputs": [
    {
     "name": "stdout",
     "output_type": "stream",
     "text": [
      "Zeros: [-139.16] Polos: [-98.75  -4.27   0.  ] Ganho: inf\n"
     ]
    }
   ],
   "source": [
    "print(f\"Zeros: {nG.zero()} Polos: {nG.pole()} Ganho: {nG.dcgain()}\")"
   ]
  },
  {
   "cell_type": "markdown",
   "metadata": {},
   "source": [
    "Iremos utilizar um controlador PI na forma\n",
    "\n",
    "$$\n",
    "H(s) =  K_p+K_i\\frac{1}{s}+K_d\\frac{N}{\\frac{1}{s}N+1}\n",
    "$$"
   ]
  },
  {
   "cell_type": "code",
   "execution_count": 55,
   "metadata": {},
   "outputs": [
    {
     "data": {
      "text/plain": [
       "(array([-98.75, -15.15,  -4.27,   0.  ]), array([-139.16,   -4.61]))"
      ]
     },
     "execution_count": 55,
     "metadata": {},
     "output_type": "execute_result"
    },
    {
     "data": {
      "image/png": "[encoded data removed]",
      "text/plain": [
       "<Figure size 432x288 with 1 Axes>"
      ]
     },
     "metadata": {
      "needs_background": "light"
     },
     "output_type": "display_data"
    }
   ],
   "source": [
    "plt.rcParams[\"figure.figsize\"] = (10,8)\n",
    "\n",
    "# As constantes foram obtidas com a função pidTuner do Matlab\n",
    "Kp = 15.23 #197.8\n",
    "Ki = 324.56\n",
    "Kd = 2.3 #29.5\n",
    "N = 1/0.066 #0.00021767\n",
    "\n",
    "s = co.tf(\"s\")\n",
    "H = Kp + Kd*N/(N/s + 1) #+ Ki/s\n",
    "\n",
    "%matplotlib inline\n",
    "co.pzmap(H*nG)"
   ]
  },
  {
   "cell_type": "code",
   "execution_count": 56,
   "metadata": {},
   "outputs": [
    {
     "data": {
      "text/plain": [
       "{'RiseTime': 0.3145242503214909,\n",
       " 'SettlingTime': 0.4824375951146374,\n",
       " 'SettlingMin': 0.9015728174783871,\n",
       " 'SettlingMax': 1.0177747694910257,\n",
       " 'Overshoot': 1.6291180680267519,\n",
       " 'Undershoot': 0.0,\n",
       " 'Peak': 1.0177747694910257,\n",
       " 'PeakTime': 0.6904496491121174,\n",
       " 'SteadyStateValue': 1.0014598068338694}"
      ]
     },
     "execution_count": 56,
     "metadata": {},
     "output_type": "execute_result"
    },
    {
     "data": {
      "image/png": "[encoded data removed]",
      "text/plain": [
       "<Figure size 720x576 with 1 Axes>"
      ]
     },
     "metadata": {
      "needs_background": "light"
     },
     "output_type": "display_data"
    }
   ],
   "source": [
    "plt.rcParams[\"figure.figsize\"] = (10,8)\n",
    "cloop = co.feedback(H*nG)\n",
    "y, t = co.step(cloop, np.linspace(0,1,200))\n",
    "plt.xlabel(\"Tempo (s)\")\n",
    "plt.ylabel(\"Posição (m)\")\n",
    "plt.plot(t, y)\n",
    "co.stepinfo(cloop)"
   ]
  },
  {
   "cell_type": "code",
   "execution_count": 57,
   "metadata": {},
   "outputs": [
    {
     "data": {
      "text/plain": [
       "[<matplotlib.lines.Line2D at 0x7f5cc7cd3d00>]"
      ]
     },
     "execution_count": 57,
     "metadata": {},
     "output_type": "execute_result"
    },
    {
     "data": {
      "image/png": "[encoded data removed]",
      "text/plain": [
       "<Figure size 720x576 with 2 Axes>"
      ]
     },
     "metadata": {
      "needs_background": "light"
     },
     "output_type": "display_data"
    }
   ],
   "source": [
    "omega = np.logspace(0,2,num=100,base=10)\n",
    "mag,phase,omega = co.bode(cloop,dB=True,Plot=False)\n",
    "# Converte para dB e graus\n",
    "magdB = 20*np.log10(mag)\n",
    "phase_deg = phase*180.0/np.pi\n",
    "\n",
    "Gm,Pm,Wcg,Wcp = co.margin(cloop)\n",
    "GmdB = 20*np.log10(Gm)\n",
    "\n",
    "f, (ax1,ax2) = plt.subplots(2,1)\n",
    "ax1.semilogx(omega,magdB)\n",
    "ax1.grid(which=\"both\")\n",
    "ax1.set_xlabel('Frequency (rad/s)')\n",
    "ax1.set_ylabel('Magnitude (dB)')\n",
    "ax2.semilogx(omega,phase_deg)\n",
    "ax2.grid(which=\"both\")\n",
    "ax2.set_xlabel('Frequency (rad/s)')\n",
    "ax2.set_ylabel('Phase (deg)')\n",
    "ax1.set_title('Gm = '+str(np.round(GmdB,2))+' dB (at '+str(np.round(Wcg,2))+' rad/s), Pm = '+str(np.round(Pm,2))+' deg (at '+str(np.round(Wcp,2))+' rad/s)')\n",
    "###Plot the zero dB line\n",
    "ax1.plot(omega,0*omega,'k--',lineWidth=2)\n",
    "###Plot the -180 deg lin\n",
    "ax2.plot(omega,-180+0*omega,'k--',lineWidth=2)\n",
    "##Plot the vertical line from -180 to 0 at Wcg\n",
    "ax2.plot([Wcg,Wcg],[-180,0],'r--',lineWidth=2)\n",
    "##Plot the vertical line from -180+Pm to 0 at Wcp\n",
    "ax2.plot([Wcp,Wcp],[-180+Pm,0],'g--',lineWidth=2)\n",
    "##Plot the vertical line from min(magdB) to 0-GmdB at Wcg\n",
    "ax1.plot([Wcg,Wcg],[np.min(magdB),0-GmdB],'r--',lineWidth=2)\n",
    "##Plot the vertical line from min(magdB) to 0db at Wcp\n",
    "ax1.plot([Wcp,Wcp],[np.min(magdB),0],'g--',lineWidth=2)\n"
   ]
  },
  {
   "cell_type": "code",
   "execution_count": 58,
   "metadata": {},
   "outputs": [
    {
     "data": {
      "text/plain": [
       "5.564276094276094"
      ]
     },
     "execution_count": 58,
     "metadata": {},
     "output_type": "execute_result"
    },
    {
     "data": {
      "image/png": "[encoded data removed]",
      "text/plain": [
       "<Figure size 720x576 with 1 Axes>"
      ]
     },
     "metadata": {
      "needs_background": "light"
     },
     "output_type": "display_data"
    }
   ],
   "source": [
    "plt.rcParams[\"figure.figsize\"] = (10,8)\n",
    "effort = co.feedback(H, nG)*(1/9)\n",
    "y, t = co.step(effort, np.linspace(0, 1, 200))\n",
    "plt.plot(t, y, '.r')\n",
    "plt.xlabel(\"Tempo (s)\")\n",
    "plt.ylabel(\"Corrente controlador (A)\")\n",
    "np.max(np.abs(y))"
   ]
  },
  {
   "cell_type": "markdown",
   "metadata": {},
   "source": [
    "Pudemos perceber que o uso do termo integrador do PID leva o sistema a consumir mais corrente do que o admissível pelo motor especificado, de modo que optamos pelo uso de um controlador PD com filtro"
   ]
  }
 ],
 "metadata": {
  "kernelspec": {
   "display_name": "Python 3.8.2 64-bit",
   "language": "python",
   "name": "python38264bitf2c05e671abe4be5bf7b4efce61c3e83"
  },
  "language_info": {
   "codemirror_mode": {
    "name": "ipython",
    "version": 3
   },
   "file_extension": ".py",
   "mimetype": "text/x-python",
   "name": "python",
   "nbconvert_exporter": "python",
   "pygments_lexer": "ipython3",
   "version": "3.8.2"
  }
 },
 "nbformat": 4,
 "nbformat_minor": 4
}
